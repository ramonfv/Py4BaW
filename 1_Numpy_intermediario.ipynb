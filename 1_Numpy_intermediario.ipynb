{
  "nbformat": 4,
  "nbformat_minor": 0,
  "metadata": {
    "kernelspec": {
      "display_name": "Python 3",
      "language": "python",
      "name": "python3"
    },
    "language_info": {
      "codemirror_mode": {
        "name": "ipython",
        "version": 3
      },
      "file_extension": ".py",
      "mimetype": "text/x-python",
      "name": "python",
      "nbconvert_exporter": "python",
      "pygments_lexer": "ipython3",
      "version": "3.7.9"
    },
    "colab": {
      "name": "1. Numpy.ipynb",
      "provenance": [],
      "collapsed_sections": [],
      "include_colab_link": true
    }
  },
  "cells": [
    {
      "cell_type": "markdown",
      "metadata": {
        "id": "view-in-github",
        "colab_type": "text"
      },
      "source": [
        "<a href=\"https://colab.research.google.com/github/ramonfv/Py4BaW/blob/main/1_Numpy_intermediario.ipynb\" target=\"_parent\"><img src=\"https://colab.research.google.com/assets/colab-badge.svg\" alt=\"Open In Colab\"/></a>"
      ]
    },
    {
      "cell_type": "markdown",
      "metadata": {
        "id": "BWYODzFg6zBC"
      },
      "source": [
        "\n",
        "# NumPy\n",
        "---\n",
        "Numpy é uma biblioteca para computação científica em Python\n",
        "\n",
        "* torna mais fácil a criação e operação de arrays multidimensionais.\n",
        "\n",
        "* Python é mais lento que linguagens como C e Fortran.\n",
        "\n",
        "* Numpy fornece uma interface com códigos compilados (e otimizados) em C e Fortran, permitindo que as operações relativas a arrays sejam computadas de maneira mais rápida.\n",
        "\n",
        "**Índice:**\n",
        "1. [Criando objetos](#I.-Criando-objetos)\n",
        "2. [Manipulações](#II.-Manipulações)\n",
        "3. [Operações](#III.-Operações)\n",
        "4. [Álgebra linear](#IV.-Álgebra-linear)\n",
        "\n",
        "\n",
        "**Fontes:**\n",
        "* [Aula de Python da UFRJ](https://dcc.ufrj.br/~pythonufrj/aulas-python2_37/aula7_teorica.pdf)\n",
        "* [Números aleatórios](https://www.howtogeek.com/183051/htg-explains-how-computers-generate-random-numbers/)\n",
        "* [Manual de referência scypy/numpy](https://docs.scipy.org/doc/numpy/reference/)"
      ]
    },
    {
      "cell_type": "markdown",
      "metadata": {
        "id": "eRD9kQor6zBT"
      },
      "source": [
        "Importando a biblioteca Numpy e a biblioteca MatplotLib"
      ]
    },
    {
      "cell_type": "code",
      "metadata": {
        "id": "tUwSD0wL6zBU"
      },
      "source": [
        "import numpy as np\n",
        "import matplotlib.pyplot as plt"
      ],
      "execution_count": 1,
      "outputs": []
    },
    {
      "cell_type": "markdown",
      "metadata": {
        "id": "7cMXxuOAoFqi"
      },
      "source": [
        "## I. Criando objetos\n",
        "---\n",
        "**Índice:**\n",
        "1. [Arrays](#1-Arrays)\n",
        "2. [Arrays pré-moldados](#2-Arrays-pré-moldados)\n",
        "3. [Matrizes pré-moldadas](#3-Matrizes-pré-moldadas)\n",
        "4. [Números aleatórios](#4-Números-aleatórios)\n"
      ]
    },
    {
      "cell_type": "markdown",
      "metadata": {
        "id": "w3QImIBD6zBV"
      },
      "source": [
        "### 1 Criando arrays\n",
        "Arrays do numpy são multidimensionais\n",
        "```python\n",
        "array(object, dtype=None, copy=True, order='K', ndmin=0)\n",
        "```"
      ]
    },
    {
      "cell_type": "code",
      "metadata": {
        "id": "MFwMAQf36zBX",
        "colab": {
          "base_uri": "https://localhost:8080/"
        },
        "outputId": "74119ed5-185c-4d29-f565-4ace72c38ec9"
      },
      "source": [
        "x = np.array([1, 2, 3])\n",
        "x"
      ],
      "execution_count": 2,
      "outputs": [
        {
          "output_type": "execute_result",
          "data": {
            "text/plain": [
              "array([1, 2, 3])"
            ]
          },
          "metadata": {},
          "execution_count": 2
        }
      ]
    },
    {
      "cell_type": "code",
      "metadata": {
        "id": "neZh0QKb5kuD",
        "colab": {
          "base_uri": "https://localhost:8080/"
        },
        "outputId": "5305b4d3-3955-45e8-b25f-152cf8d2e230"
      },
      "source": [
        "x.dtype"
      ],
      "execution_count": 3,
      "outputs": [
        {
          "output_type": "execute_result",
          "data": {
            "text/plain": [
              "dtype('int64')"
            ]
          },
          "metadata": {},
          "execution_count": 3
        }
      ]
    },
    {
      "cell_type": "code",
      "metadata": {
        "id": "ICR8_9y26zBc",
        "colab": {
          "base_uri": "https://localhost:8080/"
        },
        "outputId": "e05e0a82-a860-4b51-e5af-67f44ae4af06"
      },
      "source": [
        "# Lista de listas como entrada o retorno será array multidimensional\n",
        "y = np.array([[1., 0., 2.], [0., 1., 2.]])\n",
        "y"
      ],
      "execution_count": 4,
      "outputs": [
        {
          "output_type": "execute_result",
          "data": {
            "text/plain": [
              "array([[1., 0., 2.],\n",
              "       [0., 1., 2.]])"
            ]
          },
          "metadata": {},
          "execution_count": 4
        }
      ]
    },
    {
      "cell_type": "code",
      "metadata": {
        "id": "-X32qLSp6zBd",
        "colab": {
          "base_uri": "https://localhost:8080/"
        },
        "outputId": "c9ed96ca-99d3-4893-d027-0cd548409c31"
      },
      "source": [
        "y.dtype"
      ],
      "execution_count": 7,
      "outputs": [
        {
          "output_type": "execute_result",
          "data": {
            "text/plain": [
              "dtype('float64')"
            ]
          },
          "metadata": {},
          "execution_count": 7
        }
      ]
    },
    {
      "cell_type": "code",
      "metadata": {
        "id": "OGPBZCIu6Cxk",
        "colab": {
          "base_uri": "https://localhost:8080/"
        },
        "outputId": "ff79f32d-77b9-45a0-cbc6-3628d385e5c8"
      },
      "source": [
        "print(type(y))"
      ],
      "execution_count": 8,
      "outputs": [
        {
          "output_type": "stream",
          "name": "stdout",
          "text": [
            "<class 'numpy.ndarray'>\n"
          ]
        }
      ]
    },
    {
      "cell_type": "markdown",
      "metadata": {
        "id": "aP6DIorb6zBe"
      },
      "source": [
        "Cada dimensão em Numpy é chamada de eixo (axes):\n",
        "* `x`: `[1,2,3]` tem dimensão (rank) 1 e seu eixo tem comprimento 3. Pode ser visto como um vetor.\n",
        "* `y`: `[[1.,0.,2.],[0.,1.,2.]]` tem dimensão (rank) 2. O primeiro eixo tem comprimento 2,e o segundo tem comprimento 3.Pode ser visto como uma matriz 2x3"
      ]
    },
    {
      "cell_type": "markdown",
      "metadata": {
        "id": "Z5FyLk1K-JBP"
      },
      "source": [
        "Criando um array com um tipo específico de dados"
      ]
    },
    {
      "cell_type": "code",
      "metadata": {
        "id": "G9kkfmLa_Wdl",
        "colab": {
          "base_uri": "https://localhost:8080/"
        },
        "outputId": "c421c72a-d286-4b5f-9bd9-995121ee3336"
      },
      "source": [
        "np.array(x, dtype='float32')"
      ],
      "execution_count": 9,
      "outputs": [
        {
          "output_type": "execute_result",
          "data": {
            "text/plain": [
              "array([1., 2., 3.], dtype=float32)"
            ]
          },
          "metadata": {},
          "execution_count": 9
        }
      ]
    },
    {
      "cell_type": "markdown",
      "metadata": {
        "id": "nPlCid4Y-Tia"
      },
      "source": [
        "Criando um array com o número de dimensões especificadas"
      ]
    },
    {
      "cell_type": "code",
      "metadata": {
        "id": "ueEHnmW-_cSx",
        "colab": {
          "base_uri": "https://localhost:8080/"
        },
        "outputId": "f6e954ec-e539-4587-a0a8-b617558a0dc1"
      },
      "source": [
        "np.array(x, ndmin=3), np.array(x, ndmin=3).shape"
      ],
      "execution_count": 10,
      "outputs": [
        {
          "output_type": "execute_result",
          "data": {
            "text/plain": [
              "(array([[[1, 2, 3]]]), (1, 1, 3))"
            ]
          },
          "metadata": {},
          "execution_count": 10
        }
      ]
    },
    {
      "cell_type": "markdown",
      "metadata": {
        "id": "j1CxgsO06zBe"
      },
      "source": [
        "#### Acessando elementos"
      ]
    },
    {
      "cell_type": "code",
      "metadata": {
        "id": "3zPHoFeZ6zBf",
        "colab": {
          "base_uri": "https://localhost:8080/"
        },
        "outputId": "13015dfc-1529-4f27-b9a7-2dd92da1ccaf"
      },
      "source": [
        "# pegando o segundo termo\n",
        "x[1]"
      ],
      "execution_count": 11,
      "outputs": [
        {
          "output_type": "execute_result",
          "data": {
            "text/plain": [
              "2"
            ]
          },
          "metadata": {},
          "execution_count": 11
        }
      ]
    },
    {
      "cell_type": "markdown",
      "metadata": {
        "id": "FCGL34D_6zBf"
      },
      "source": [
        "Acesso a primeira dimensão"
      ]
    },
    {
      "cell_type": "code",
      "metadata": {
        "id": "Zd_9Se1Y6zBg",
        "colab": {
          "base_uri": "https://localhost:8080/"
        },
        "outputId": "d6c28eae-a40e-4c43-fe1f-f2deab43356b"
      },
      "source": [
        "y[0]"
      ],
      "execution_count": 12,
      "outputs": [
        {
          "output_type": "execute_result",
          "data": {
            "text/plain": [
              "array([1., 0., 2.])"
            ]
          },
          "metadata": {},
          "execution_count": 12
        }
      ]
    },
    {
      "cell_type": "code",
      "metadata": {
        "id": "ivP_1kFa6zBg",
        "colab": {
          "base_uri": "https://localhost:8080/"
        },
        "outputId": "21fe8fe8-f359-4158-8892-d6c314ba3be7"
      },
      "source": [
        "y[0][1]"
      ],
      "execution_count": 13,
      "outputs": [
        {
          "output_type": "execute_result",
          "data": {
            "text/plain": [
              "0.0"
            ]
          },
          "metadata": {},
          "execution_count": 13
        }
      ]
    },
    {
      "cell_type": "code",
      "metadata": {
        "id": "rAuOgfED6zBh",
        "colab": {
          "base_uri": "https://localhost:8080/"
        },
        "outputId": "971740cc-edac-40f6-dd85-a5523d58ee70"
      },
      "source": [
        "y[0, 1]"
      ],
      "execution_count": 14,
      "outputs": [
        {
          "output_type": "execute_result",
          "data": {
            "text/plain": [
              "0.0"
            ]
          },
          "metadata": {},
          "execution_count": 14
        }
      ]
    },
    {
      "cell_type": "markdown",
      "metadata": {
        "id": "cO7ArtP775Fw"
      },
      "source": [
        "Utilizando o método `numpy.arange`\n",
        "```python\n",
        "np.arange([start,] stop[, step,], dtype=None)\n",
        "```"
      ]
    },
    {
      "cell_type": "code",
      "metadata": {
        "id": "Pu3RuyXJAO_Q",
        "colab": {
          "base_uri": "https://localhost:8080/"
        },
        "outputId": "5394e195-b8cc-4346-e458-5ae9965b6fba"
      },
      "source": [
        "np.arange(1,11,2, dtype='float64')"
      ],
      "execution_count": 15,
      "outputs": [
        {
          "output_type": "execute_result",
          "data": {
            "text/plain": [
              "array([1., 3., 5., 7., 9.])"
            ]
          },
          "metadata": {},
          "execution_count": 15
        }
      ]
    },
    {
      "cell_type": "markdown",
      "metadata": {
        "id": "xnDGlmqsBEPF"
      },
      "source": [
        "Utilizando o método `numpy.linspace`\n",
        "```python\n",
        "np.linspace(start, stop, num=50, endpoint=True, retstep=False, dtype=None, axis=0)\n",
        "```"
      ]
    },
    {
      "cell_type": "code",
      "metadata": {
        "id": "xoT6eDTYCI2T",
        "colab": {
          "base_uri": "https://localhost:8080/"
        },
        "outputId": "01ecdeef-d555-47e2-df5e-bab8f4295ac3"
      },
      "source": [
        "np.linspace(0, 9, num=9, retstep=True)"
      ],
      "execution_count": 16,
      "outputs": [
        {
          "output_type": "execute_result",
          "data": {
            "text/plain": [
              "(array([0.   , 1.125, 2.25 , 3.375, 4.5  , 5.625, 6.75 , 7.875, 9.   ]), 1.125)"
            ]
          },
          "metadata": {},
          "execution_count": 16
        }
      ]
    },
    {
      "cell_type": "code",
      "metadata": {
        "id": "9wV7kf8qDEOE",
        "colab": {
          "base_uri": "https://localhost:8080/"
        },
        "outputId": "ee545b38-56da-48e5-f690-9d191d9b57d7"
      },
      "source": [
        "x = np.linspace((0,1), (9,9), axis=0, num=10)\n",
        "x"
      ],
      "execution_count": 17,
      "outputs": [
        {
          "output_type": "execute_result",
          "data": {
            "text/plain": [
              "array([[0.        , 1.        ],\n",
              "       [1.        , 1.88888889],\n",
              "       [2.        , 2.77777778],\n",
              "       [3.        , 3.66666667],\n",
              "       [4.        , 4.55555556],\n",
              "       [5.        , 5.44444444],\n",
              "       [6.        , 6.33333333],\n",
              "       [7.        , 7.22222222],\n",
              "       [8.        , 8.11111111],\n",
              "       [9.        , 9.        ]])"
            ]
          },
          "metadata": {},
          "execution_count": 17
        }
      ]
    },
    {
      "cell_type": "code",
      "metadata": {
        "id": "O5zlHIULFmjA",
        "colab": {
          "base_uri": "https://localhost:8080/"
        },
        "outputId": "fd212066-7ab8-404d-e5c4-f7945f928cb0"
      },
      "source": [
        "x.shape"
      ],
      "execution_count": 18,
      "outputs": [
        {
          "output_type": "execute_result",
          "data": {
            "text/plain": [
              "(10, 2)"
            ]
          },
          "metadata": {},
          "execution_count": 18
        }
      ]
    },
    {
      "cell_type": "code",
      "metadata": {
        "id": "eBVg_uN_E_1p",
        "colab": {
          "base_uri": "https://localhost:8080/"
        },
        "outputId": "ba9e2cbf-f0f0-4627-c95a-b1d91881a2f6"
      },
      "source": [
        "y = np.linspace((0,1), (9,9), axis=1, num=10)\n",
        "y"
      ],
      "execution_count": 19,
      "outputs": [
        {
          "output_type": "execute_result",
          "data": {
            "text/plain": [
              "array([[0.        , 1.        , 2.        , 3.        , 4.        ,\n",
              "        5.        , 6.        , 7.        , 8.        , 9.        ],\n",
              "       [1.        , 1.88888889, 2.77777778, 3.66666667, 4.55555556,\n",
              "        5.44444444, 6.33333333, 7.22222222, 8.11111111, 9.        ]])"
            ]
          },
          "metadata": {},
          "execution_count": 19
        }
      ]
    },
    {
      "cell_type": "code",
      "metadata": {
        "id": "Y7SIKv9UFjYU",
        "colab": {
          "base_uri": "https://localhost:8080/"
        },
        "outputId": "9024f28c-53eb-47bc-cebc-a1a7e67d8dae"
      },
      "source": [
        "y.shape"
      ],
      "execution_count": 20,
      "outputs": [
        {
          "output_type": "execute_result",
          "data": {
            "text/plain": [
              "(2, 10)"
            ]
          },
          "metadata": {},
          "execution_count": 20
        }
      ]
    },
    {
      "cell_type": "markdown",
      "metadata": {
        "id": "kvoeE4tdFpq-"
      },
      "source": [
        "### 2 Arrays  pré-moldados\n",
        "Arrays preenchidos com 0:\n",
        "```python\n",
        "np.zeros(shape, dtype=None, order='C')\n",
        "np.zeros_like(a, dtype=None, order='K', subok=True, shape=None)\n",
        "```\n",
        "Arrays preenchidos com 1:\n",
        "```python\n",
        "np.ones(shape, dtype=None, order='C')\n",
        "np.ones_like(a, dtype=None, order='K', subok=True, shape=None)\n",
        "```\n",
        "Arrays preenchidos com números quaisquer: \n",
        "```python\n",
        "np.empty(shape, dtype=None, order='C')\n",
        "np.empty_like(a, dtype=None, order='K', subok=True, shape=None)\n",
        "```\n",
        "\n",
        "Arrays preenchidos com o número escolhido:\n",
        "```python\n",
        "np.full(shape, fill_value, dtype=None, order='C')\n",
        "np.full_like(a, fill_value, dtype=None, order='K', subok=True, shape=None)\n",
        "```"
      ]
    },
    {
      "cell_type": "code",
      "metadata": {
        "id": "wlQ7zsXNHo-n",
        "colab": {
          "base_uri": "https://localhost:8080/"
        },
        "outputId": "c4a8a2ee-694f-4750-c25d-1c9e02ea2148"
      },
      "source": [
        "np.ones((2,3,4))"
      ],
      "execution_count": 21,
      "outputs": [
        {
          "output_type": "execute_result",
          "data": {
            "text/plain": [
              "array([[[1., 1., 1., 1.],\n",
              "        [1., 1., 1., 1.],\n",
              "        [1., 1., 1., 1.]],\n",
              "\n",
              "       [[1., 1., 1., 1.],\n",
              "        [1., 1., 1., 1.],\n",
              "        [1., 1., 1., 1.]]])"
            ]
          },
          "metadata": {},
          "execution_count": 21
        }
      ]
    },
    {
      "cell_type": "code",
      "metadata": {
        "id": "ETLw8zj8Ilj8",
        "colab": {
          "base_uri": "https://localhost:8080/"
        },
        "outputId": "8e5ef1bc-c9d1-4b71-c2a7-dcfc4a885256"
      },
      "source": [
        "np.ones_like(y)"
      ],
      "execution_count": 22,
      "outputs": [
        {
          "output_type": "execute_result",
          "data": {
            "text/plain": [
              "array([[1., 1., 1., 1., 1., 1., 1., 1., 1., 1.],\n",
              "       [1., 1., 1., 1., 1., 1., 1., 1., 1., 1.]])"
            ]
          },
          "metadata": {},
          "execution_count": 22
        }
      ]
    },
    {
      "cell_type": "code",
      "metadata": {
        "id": "Lrmrw60b44Ha",
        "colab": {
          "base_uri": "https://localhost:8080/"
        },
        "outputId": "4aefea21-494c-44ab-b1a8-5ff7398c7b90"
      },
      "source": [
        "np.empty((2,1))"
      ],
      "execution_count": 23,
      "outputs": [
        {
          "output_type": "execute_result",
          "data": {
            "text/plain": [
              "array([[1.        ],\n",
              "       [0.88888889]])"
            ]
          },
          "metadata": {},
          "execution_count": 23
        }
      ]
    },
    {
      "cell_type": "code",
      "metadata": {
        "id": "t9ij1NIc576h",
        "colab": {
          "base_uri": "https://localhost:8080/"
        },
        "outputId": "e9bb72f8-7bed-41a1-8aa8-9fd146c45b0b"
      },
      "source": [
        "np.full((1,2), 3)"
      ],
      "execution_count": 24,
      "outputs": [
        {
          "output_type": "execute_result",
          "data": {
            "text/plain": [
              "array([[3, 3]])"
            ]
          },
          "metadata": {},
          "execution_count": 24
        }
      ]
    },
    {
      "cell_type": "markdown",
      "metadata": {
        "id": "rGUwsLWG3q_4"
      },
      "source": [
        "### 3 Matrizes pré-moldadas"
      ]
    },
    {
      "cell_type": "markdown",
      "metadata": {
        "id": "4TTW1LrCtp0y"
      },
      "source": [
        "#### Diagonal unitária\n",
        "Matriz com diagonal igual a 1 e 0 fora da diagonal:\n",
        "```python\n",
        "np.eye(N, M=None, k=0, dtype=<class 'float'>, order='C')\n",
        "```"
      ]
    },
    {
      "cell_type": "code",
      "metadata": {
        "id": "O3Hc5tpq9Ae_",
        "colab": {
          "base_uri": "https://localhost:8080/"
        },
        "outputId": "e5eeafac-5393-4a7d-e231-837a265487f3"
      },
      "source": [
        "np.eye(3, M=2, k=-1)"
      ],
      "execution_count": 25,
      "outputs": [
        {
          "output_type": "execute_result",
          "data": {
            "text/plain": [
              "array([[0., 0.],\n",
              "       [1., 0.],\n",
              "       [0., 1.]])"
            ]
          },
          "metadata": {},
          "execution_count": 25
        }
      ]
    },
    {
      "cell_type": "markdown",
      "metadata": {
        "id": "SVztJwkZ89Wa"
      },
      "source": [
        "#### Identidade\n",
        "Matriz quadrada identidade:\n",
        "```python\n",
        "np.identity(n, dtype=None)\n",
        "```\n"
      ]
    },
    {
      "cell_type": "code",
      "metadata": {
        "id": "yixmpa_a9PqE",
        "colab": {
          "base_uri": "https://localhost:8080/"
        },
        "outputId": "7af5b4ca-ceb5-4232-bfe7-7ed03ef4af46"
      },
      "source": [
        "np.identity(3)"
      ],
      "execution_count": 26,
      "outputs": [
        {
          "output_type": "execute_result",
          "data": {
            "text/plain": [
              "array([[1., 0., 0.],\n",
              "       [0., 1., 0.],\n",
              "       [0., 0., 1.]])"
            ]
          },
          "metadata": {},
          "execution_count": 26
        }
      ]
    },
    {
      "cell_type": "markdown",
      "metadata": {
        "id": "_Sb0Xu4p9Osi"
      },
      "source": [
        "#### Diagonal\n",
        "Matriz diagonal com valores especificados:\n",
        "```python\n",
        "np.diag(v, k=0)\n",
        "```\n",
        "*Também é possível extrair a diagonal de uma matriz com o método `np.diag`*"
      ]
    },
    {
      "cell_type": "code",
      "metadata": {
        "id": "zg8Paa4S9Evq",
        "colab": {
          "base_uri": "https://localhost:8080/"
        },
        "outputId": "a66e7826-8da5-4dbb-927e-16b6676a64e5"
      },
      "source": [
        "np.diag([[1, 2, 3], [4, 5, 6], [7, 8, 9]])"
      ],
      "execution_count": 27,
      "outputs": [
        {
          "output_type": "execute_result",
          "data": {
            "text/plain": [
              "array([1, 5, 9])"
            ]
          },
          "metadata": {},
          "execution_count": 27
        }
      ]
    },
    {
      "cell_type": "code",
      "metadata": {
        "id": "AtqgWLHZ4Ry-",
        "colab": {
          "base_uri": "https://localhost:8080/"
        },
        "outputId": "161d2c9a-7661-4efb-cfa3-afa4a32d1868"
      },
      "source": [
        "np.diag([1, 5, 9])"
      ],
      "execution_count": 28,
      "outputs": [
        {
          "output_type": "execute_result",
          "data": {
            "text/plain": [
              "array([[1, 0, 0],\n",
              "       [0, 5, 0],\n",
              "       [0, 0, 9]])"
            ]
          },
          "metadata": {},
          "execution_count": 28
        }
      ]
    },
    {
      "cell_type": "markdown",
      "metadata": {
        "id": "8Cr9vHbPKXx9"
      },
      "source": [
        "#### Exercício 1\n",
        "Faça uma função que dado um intervalo fechado $[a, b]$ e um número de pontos $n$, retorna o array `x`, formado pelos $n$ pontos obtidos a partir do intervalo $[a, b]$ e `y` é o array onde $y_i = x_i^2 - 9$.\n",
        "\n",
        "**Exemplo**\n",
        "```python\n",
        ">> x, y = f([−10, 10], 10)\n",
        ">>\n",
        ">> print(x)\n",
        "array([−10., −7.77777778, −5.55555556, −3.33333333, −1.11111111, 1.11111111, 3.33333333, 5.55555556, 7.77777778, 10.]\n",
        ">>\n",
        ">> print(y)\n",
        "array([91., 51.49382716, 21.86419753, 2.11111111, −7.7654321, −7.7654321, 2.11111111, 21.86419753, 51.49382716, 91.])\n",
        "```"
      ]
    },
    {
      "cell_type": "code",
      "metadata": {
        "id": "SXFZvxxpODUz",
        "colab": {
          "base_uri": "https://localhost:8080/"
        },
        "outputId": "4ec070a0-8758-43c4-f7e8-9c2fc204bc33"
      },
      "source": [
        "def f(v: list,\n",
        "      n: int):\n",
        "    # Criando o array linearmente espaçado\n",
        "    x = np.linspace(v[0], v[1], n)\n",
        "    # Aplicando a equação ao array\n",
        "    y = x**2 - 9\n",
        "    return x, y\n",
        "\n",
        "x, y = f([-10, 10], 10)\n",
        "print(x)\n",
        "print(y)"
      ],
      "execution_count": 29,
      "outputs": [
        {
          "output_type": "stream",
          "name": "stdout",
          "text": [
            "[-10.          -7.77777778  -5.55555556  -3.33333333  -1.11111111\n",
            "   1.11111111   3.33333333   5.55555556   7.77777778  10.        ]\n",
            "[91.         51.49382716 21.86419753  2.11111111 -7.7654321  -7.7654321\n",
            "  2.11111111 21.86419753 51.49382716 91.        ]\n"
          ]
        }
      ]
    },
    {
      "cell_type": "markdown",
      "metadata": {
        "id": "VN3JyvMRYNhw"
      },
      "source": [
        "#### Exercício 2\n",
        "Crie uma função gera_matriz que recebe como parâmetros de entrada (a, b, n, m). Que retorne um array Numpy de formato $m \\times m$, onde os elementos são os $n$ números igualmente espaçados obtidos ao se dividir o intervalo $[a, b]$. Caso não seja possível construir tal array, a função deve retornar a mensagem `\"Não é possível construir\"`.\n",
        "\n",
        "**Exemplo:**\n",
        "```python\n",
        ">> gera_matriz(0 ,10 ,16 ,4)\n",
        "array([[0., 0.66666667, 1.33333333, 2.]\n",
        "      [2.66666667, 3.33333333, 4., 4.66666667],\n",
        "      [5.33333333, 6., 6.66666667, 7.33333333],\n",
        "      [8., 8.66666667, 9.33333333, 10.]])\n",
        ">>\n",
        ">> gera_matriz(0, 10, 10, 4)\n",
        "\"Não é possível construir\"\n",
        "```"
      ]
    },
    {
      "cell_type": "code",
      "metadata": {
        "id": "te2r4RNcL7q_",
        "colab": {
          "base_uri": "https://localhost:8080/"
        },
        "outputId": "c8d7af2f-bcbe-4261-f511-80f2dccdc2e4"
      },
      "source": [
        "def gera_matriz(a, b, n, m):\n",
        "    # Verificação de viabilidade de construção da matriz\n",
        "    if m**2 != n:\n",
        "        print(\"Não é possível construir\")\n",
        "        return None\n",
        "    x = np.linspace(a, b, n)\n",
        "    \n",
        "    # primeiro método:\n",
        "    y = np.zeros((m, m))\n",
        "    for linha in range(m):\n",
        "        for coluna in range(m):\n",
        "            y[linha, coluna] = x[linha*m+coluna]\n",
        "    return y\n",
        "\n",
        "    # segundo método\n",
        "    return x.reshape((m, m))\n",
        "\n",
        "gera_matriz(0 ,10 ,16 ,4)"
      ],
      "execution_count": 30,
      "outputs": [
        {
          "output_type": "execute_result",
          "data": {
            "text/plain": [
              "array([[ 0.        ,  0.66666667,  1.33333333,  2.        ],\n",
              "       [ 2.66666667,  3.33333333,  4.        ,  4.66666667],\n",
              "       [ 5.33333333,  6.        ,  6.66666667,  7.33333333],\n",
              "       [ 8.        ,  8.66666667,  9.33333333, 10.        ]])"
            ]
          },
          "metadata": {},
          "execution_count": 30
        }
      ]
    },
    {
      "cell_type": "markdown",
      "metadata": {
        "id": "0PL7LmIA847s"
      },
      "source": [
        "### 4 Números aleatórios\n",
        "Existem dois tipos de números aleatórios, os aleatórios verdadeiros (medida de uma grandeza física externa ao computador) e os pseudo aleatórios.\n",
        "\n",
        "**Números aleatórios verdadeiros:**\n",
        "* Decaimento da radiação de um átomo;\n",
        "    * Pela teoria quântica, não há forma de saber ao certo quando o decaimento da radiação ocorrerá.\n",
        "* Movimento do mouse;\n",
        "* Barulho ambiente;\n",
        "* Instante de tempo;\n",
        "\n",
        "**Números pseudo-aleatórios:**\n",
        "* Algorítmo função de uma semente (*seed*);\n",
        "\n",
        "**Fontes:**\n",
        "* [How to Geek](https://www.howtogeek.com/183051/htg-explains-how-computers-generate-random-numbers/)\n"
      ]
    },
    {
      "cell_type": "code",
      "metadata": {
        "id": "kZFFf9Ky9vgh"
      },
      "source": [
        "np.random.seed(42)"
      ],
      "execution_count": 31,
      "outputs": []
    },
    {
      "cell_type": "markdown",
      "metadata": {
        "id": "8KcoUwv4B3Yu"
      },
      "source": [
        "Arrays com números aleatório entre 0 e 1 com distribuição uniforme:\n",
        "```python\n",
        "rand(d0, d1, ..., dn)\n",
        "```"
      ]
    },
    {
      "cell_type": "code",
      "metadata": {
        "id": "GYFkbAAAGSwt",
        "colab": {
          "base_uri": "https://localhost:8080/"
        },
        "outputId": "5f970750-5800-45a3-e1be-41d827708b4b"
      },
      "source": [
        "np.random.rand(3,3)"
      ],
      "execution_count": 35,
      "outputs": [
        {
          "output_type": "execute_result",
          "data": {
            "text/plain": [
              "array([[0.51423444, 0.59241457, 0.04645041],\n",
              "       [0.60754485, 0.17052412, 0.06505159],\n",
              "       [0.94888554, 0.96563203, 0.80839735]])"
            ]
          },
          "metadata": {},
          "execution_count": 35
        }
      ]
    },
    {
      "cell_type": "code",
      "metadata": {
        "id": "CDqlzj2O92dL",
        "colab": {
          "base_uri": "https://localhost:8080/",
          "height": 281
        },
        "outputId": "a63d587d-989b-403e-e950-b4ee40a3f4bd"
      },
      "source": [
        "x = np.random.rand(10000)\n",
        "plt.hist(x);\n",
        "plt.title('Dist. Uniforme com média %.2f e variância %.2f'%(x.mean(), x.var()));"
      ],
      "execution_count": 38,
      "outputs": [
        {
          "output_type": "display_data",
          "data": {
            "text/plain": [
              "<Figure size 432x288 with 1 Axes>"
            ],
            "image/png": "[encoded data removed]"
          },
          "metadata": {
            "needs_background": "light"
          }
        }
      ]
    },
    {
      "cell_type": "markdown",
      "metadata": {
        "id": "VLnwTagCHV2g"
      },
      "source": [
        "Número inteiro aleatório com distribuição uniforme:\n",
        "```python\n",
        "np.random.randint(low, high=None, size=None, dtype=int)\n",
        "```"
      ]
    },
    {
      "cell_type": "code",
      "metadata": {
        "id": "bpM8SwnqBvLO",
        "colab": {
          "base_uri": "https://localhost:8080/"
        },
        "outputId": "0e6a2221-46bd-4fd4-cfb3-33b755a2e02a"
      },
      "source": [
        "np.random.randint(0, 10, size=(3,3))"
      ],
      "execution_count": 43,
      "outputs": [
        {
          "output_type": "execute_result",
          "data": {
            "text/plain": [
              "array([[2, 3, 5],\n",
              "       [2, 6, 2],\n",
              "       [8, 3, 1]])"
            ]
          },
          "metadata": {},
          "execution_count": 43
        }
      ]
    },
    {
      "cell_type": "code",
      "metadata": {
        "id": "p7zzICpaHs3I",
        "colab": {
          "base_uri": "https://localhost:8080/",
          "height": 281
        },
        "outputId": "de7b47f7-6e40-49ed-fde6-b01e7e708131"
      },
      "source": [
        "x = np.random.randint(0, 10, size=10000)\n",
        "plt.hist(x);\n",
        "plt.title('Dist. Uniforme com média %.2f e variância %.2f'%(x.mean(), x.var()));"
      ],
      "execution_count": 47,
      "outputs": [
        {
          "output_type": "display_data",
          "data": {
            "text/plain": [
              "<Figure size 432x288 with 1 Axes>"
            ],
            "image/png": "[encoded data removed]"
          },
          "metadata": {
            "needs_background": "light"
          }
        }
      ]
    },
    {
      "cell_type": "markdown",
      "metadata": {
        "id": "Ju2bK1IiH0my"
      },
      "source": [
        "Array de números aleatórios entre 0 e 1 com distribuição normal $N(0,1)$:\n",
        "```python\n",
        "np.random.randn(d0, d1, ..., dn)\n",
        "```"
      ]
    },
    {
      "cell_type": "code",
      "metadata": {
        "id": "Kq3gTqlrIHrd",
        "colab": {
          "base_uri": "https://localhost:8080/"
        },
        "outputId": "d02b084b-6abb-4e98-f348-a932f97cd4d2"
      },
      "source": [
        "np.random.randn(3,3)"
      ],
      "execution_count": 50,
      "outputs": [
        {
          "output_type": "execute_result",
          "data": {
            "text/plain": [
              "array([[ 0.57509422, -0.33640822,  2.48617938],\n",
              "       [-0.47715844, -0.6254596 ,  0.44377296],\n",
              "       [ 0.23501847, -1.5739673 ,  0.79671256]])"
            ]
          },
          "metadata": {},
          "execution_count": 50
        }
      ]
    },
    {
      "cell_type": "code",
      "metadata": {
        "id": "VFymDYPbImIC",
        "colab": {
          "base_uri": "https://localhost:8080/",
          "height": 281
        },
        "outputId": "96458690-83e4-4e08-aeeb-b166051ddc14"
      },
      "source": [
        "x = np.random.randn(10000)\n",
        "plt.hist(x);\n",
        "plt.title('Dist. Normal com média %.2f e variância %.2f'%(x.mean(), x.var()));"
      ],
      "execution_count": 52,
      "outputs": [
        {
          "output_type": "display_data",
          "data": {
            "text/plain": [
              "<Figure size 432x288 with 1 Axes>"
            ],
            "image/png": "[encoded data removed]"
          },
          "metadata": {
            "needs_background": "light"
          }
        }
      ]
    },
    {
      "cell_type": "markdown",
      "metadata": {
        "id": "Wmof2F31Jrtq"
      },
      "source": [
        "Amostragem aleatória:\n",
        "```python\n",
        "np.random.choice(a, size=None, replace=True, p=None)\n",
        "```"
      ]
    },
    {
      "cell_type": "code",
      "metadata": {
        "id": "OkR5nSkLJIUP",
        "colab": {
          "base_uri": "https://localhost:8080/"
        },
        "outputId": "056592c0-d56b-4174-d10d-dfbff5c8898e"
      },
      "source": [
        "# aqui podemos passar o vetor de interesse, a amostragem de x(10) elementos. \n",
        "np.random.choice(range(10), size=10, replace=True)"
      ],
      "execution_count": 55,
      "outputs": [
        {
          "output_type": "execute_result",
          "data": {
            "text/plain": [
              "array([9, 5, 8, 1, 1, 6, 3, 0, 5, 8])"
            ]
          },
          "metadata": {},
          "execution_count": 55
        }
      ]
    },
    {
      "cell_type": "markdown",
      "metadata": {
        "id": "ByVcLK74KT_t"
      },
      "source": [
        "Ordenação aleatória:\n",
        "```python\n",
        "np.random.shuffle(x)\n",
        "```"
      ]
    },
    {
      "cell_type": "code",
      "metadata": {
        "id": "vABd9Fc5I7b9",
        "colab": {
          "base_uri": "https://localhost:8080/"
        },
        "outputId": "437d3724-7c58-423c-fdf3-9ee9b2ebdf76"
      },
      "source": [
        "# utilizando o método shuffle temos uma amostragem aleatória do conteúdo da lista\n",
        "x = list('random')\n",
        "np.random.shuffle(x)\n",
        "x"
      ],
      "execution_count": 59,
      "outputs": [
        {
          "output_type": "execute_result",
          "data": {
            "text/plain": [
              "['m', 'd', 'a', 'o', 'r', 'n']"
            ]
          },
          "metadata": {},
          "execution_count": 59
        }
      ]
    },
    {
      "cell_type": "markdown",
      "metadata": {
        "id": "bxyQMRJcOmAo"
      },
      "source": [
        "## II. Manipulações\n",
        "---\n",
        "**Índice:**\n",
        "1. [Formato](#1-Formato)\n",
        "2. [Indexação e fatiamento](#2-Indexação-e-fatiamento)\n",
        "3. [Indexação por máscara](#3-Indexação-por-máscara)\n"
      ]
    },
    {
      "cell_type": "markdown",
      "metadata": {
        "id": "4vxIqyoGPP8f"
      },
      "source": [
        "### 1 Formato\n",
        "```python\n",
        "a.flat                      # Iterador 1-D sobre o array\n",
        "a.flatten(order='C')        # Retorna a cópia do array em 1-D (achata em 1D)\n",
        "a.ravel(a[, order])         # Retorna o array em 1-D\n",
        "a.reshape(shape, order='C') # Retorna um array remodelado no formato que é passado\n",
        "```"
      ]
    },
    {
      "cell_type": "code",
      "metadata": {
        "id": "iZPL8gyyPyEF",
        "colab": {
          "base_uri": "https://localhost:8080/"
        },
        "outputId": "0f2cf348-460d-4fc7-bd91-ac9f09ac9f54"
      },
      "source": [
        "a = np.arange(20).reshape(10, 2)\n",
        "print('a = np.arange(20).reshape(10, 2)')\n",
        "print(a)\n",
        "print()\n",
        "print('[i for i in a.flat] =')\n",
        "#iterando sobre ele\n",
        "print([i for i in a.flat])\n",
        "print()\n",
        "#achatando-o  \n",
        "# o nome (Flatten) é bem intuitivo e certamente se tornará familiar quando for realizado \n",
        "# estudos de Deep Learning, especificamente na utilização de Redes Neurais Convolucionais\n",
        "print('a.flatten() =')\n",
        "print(a.flatten())\n",
        "print()\n",
        "print('a.ravel() =')\n",
        "print(a.ravel())"
      ],
      "execution_count": 60,
      "outputs": [
        {
          "output_type": "stream",
          "name": "stdout",
          "text": [
            "a = np.arange(20).reshape(10, 2)\n",
            "[[ 0  1]\n",
            " [ 2  3]\n",
            " [ 4  5]\n",
            " [ 6  7]\n",
            " [ 8  9]\n",
            " [10 11]\n",
            " [12 13]\n",
            " [14 15]\n",
            " [16 17]\n",
            " [18 19]]\n",
            "\n",
            "[i for i in a.flat] =\n",
            "[0, 1, 2, 3, 4, 5, 6, 7, 8, 9, 10, 11, 12, 13, 14, 15, 16, 17, 18, 19]\n",
            "\n",
            "a.flatten() =\n",
            "[ 0  1  2  3  4  5  6  7  8  9 10 11 12 13 14 15 16 17 18 19]\n",
            "\n",
            "a.ravel() =\n",
            "[ 0  1  2  3  4  5  6  7  8  9 10 11 12 13 14 15 16 17 18 19]\n"
          ]
        }
      ]
    },
    {
      "cell_type": "markdown",
      "metadata": {
        "id": "xVV4Hdn5QP_C"
      },
      "source": [
        "### 2 Indexação e fatiamento\n",
        "Funciona de forma similar às operações com listas"
      ]
    },
    {
      "cell_type": "code",
      "metadata": {
        "id": "QsXtwCShS4tZ",
        "colab": {
          "base_uri": "https://localhost:8080/"
        },
        "outputId": "4752e59a-600a-4826-8bd2-7f58d898fbbf"
      },
      "source": [
        "x = list('palavra')\n",
        "x[1:3]"
      ],
      "execution_count": 61,
      "outputs": [
        {
          "output_type": "execute_result",
          "data": {
            "text/plain": [
              "['a', 'l']"
            ]
          },
          "metadata": {},
          "execution_count": 61
        }
      ]
    },
    {
      "cell_type": "code",
      "metadata": {
        "id": "YkDznSXqS-Y7",
        "colab": {
          "base_uri": "https://localhost:8080/"
        },
        "outputId": "6dd9248e-7ab6-4fa3-86bb-4d3826026c23"
      },
      "source": [
        "y = np.array(list('palavra'))\n",
        "y[1:3]"
      ],
      "execution_count": 62,
      "outputs": [
        {
          "output_type": "execute_result",
          "data": {
            "text/plain": [
              "array(['a', 'l'], dtype='<U1')"
            ]
          },
          "metadata": {},
          "execution_count": 62
        }
      ]
    },
    {
      "cell_type": "markdown",
      "metadata": {
        "id": "5pOETfy9XCD-"
      },
      "source": [
        "As diferenças começam quando fatiamos a `list` e o array para criar uma visualização, na `list` é realizada uma cópia do pedaço da `list` original:"
      ]
    },
    {
      "cell_type": "code",
      "metadata": {
        "id": "HRdeLR_8Uutc",
        "colab": {
          "base_uri": "https://localhost:8080/"
        },
        "outputId": "5d1b869c-08f0-4762-b4fd-7e006226f1d7"
      },
      "source": [
        "x = list('palavra')\n",
        "\n",
        "x0 = x[0:2]\n",
        "x0[0] = 5\n",
        "x, x0"
      ],
      "execution_count": 63,
      "outputs": [
        {
          "output_type": "execute_result",
          "data": {
            "text/plain": [
              "(['p', 'a', 'l', 'a', 'v', 'r', 'a'], [5, 'a'])"
            ]
          },
          "metadata": {},
          "execution_count": 63
        }
      ]
    },
    {
      "cell_type": "markdown",
      "metadata": {
        "id": "9pcZ3LylXYXb"
      },
      "source": [
        "Ao realizaro o mesmo procedimento em um array, apontamos para o mesmo trecho de memória:"
      ]
    },
    {
      "cell_type": "code",
      "metadata": {
        "id": "9JCZzn5MVHqq",
        "colab": {
          "base_uri": "https://localhost:8080/"
        },
        "outputId": "073d539f-a0f6-41e8-b01b-98a15caf317b"
      },
      "source": [
        "y = np.array(list('palavra'))\n",
        "\n",
        "y0 = y[0:2]\n",
        "y0[0] = 5\n",
        "y, y0"
      ],
      "execution_count": 64,
      "outputs": [
        {
          "output_type": "execute_result",
          "data": {
            "text/plain": [
              "(array(['5', 'a', 'l', 'a', 'v', 'r', 'a'], dtype='<U1'),\n",
              " array(['5', 'a'], dtype='<U1'))"
            ]
          },
          "metadata": {},
          "execution_count": 64
        }
      ]
    },
    {
      "cell_type": "markdown",
      "metadata": {
        "id": "I5ucOOjYYJR6"
      },
      "source": [
        "**Atenção**\n",
        "\n",
        "Para não afetar o array original, podemos utilizar o método `np.ndarray.copy()`."
      ]
    },
    {
      "cell_type": "code",
      "metadata": {
        "id": "A05-e6ceXkOm",
        "colab": {
          "base_uri": "https://localhost:8080/"
        },
        "outputId": "ed045519-ee5b-4961-f07e-b4b39d38aadd"
      },
      "source": [
        "y = np.array(list('palavra'))\n",
        "\n",
        "y0 = y[0:2].copy()\n",
        "y0[0] = 5\n",
        "y"
      ],
      "execution_count": 65,
      "outputs": [
        {
          "output_type": "execute_result",
          "data": {
            "text/plain": [
              "array(['p', 'a', 'l', 'a', 'v', 'r', 'a'], dtype='<U1')"
            ]
          },
          "metadata": {},
          "execution_count": 65
        }
      ]
    },
    {
      "cell_type": "markdown",
      "metadata": {
        "id": "WJBnzjzuYmAl"
      },
      "source": [
        "#### Exercício 3\n",
        "Faça duas funções, linha e coluna, cada uma recebendo como parâmetro de entrada um array `M` e um número inteiro $i$. O formato $(n, m)$ do array `M` não é passado como parâmetro de entrada. As funções devem retornar, respectivamente, a linha e a coluna $i$ de `M`. Se `M` não possui linha (coluna) $i$, a mensagem `\"Não existe esta linha (coluna)\"` deve ser retornada.\n",
        "Caso `M` não tenha o formato $(n, m)$, a mensagem `\"Isto nao e uma matriz.\"` deve ser retornada.\n",
        "\n",
        "**Exemplo**\n",
        "```python\n",
        ">> z\n",
        "array([[0.,1.11111111,2.22222222,3.33333333,4.44444444],\n",
        "       [5.55555556,6.66666667,7.77777778,8.88888889,10.]])\n",
        ">>\n",
        ">> w\n",
        "array([[[0., 1.03846154, 2.07692308],\n",
        "        [3.11538462, 4.15384615, 5.19230769],\n",
        "        [6.23076923, 7.26923077, 8.30769231]],\n",
        "       [[9.34615385, 10.38461538, 11.42307692],\n",
        "        [12.46153846, 13.5, 14.53846154],\n",
        "        [15.57692308, 16.61538462, 17.65384615]],\n",
        "       [[18.69230769, 19.73076923, 20.76923077],\n",
        "        [21.80769231, 22.84615385, 23.88461538],\n",
        "        [24.92307692, 25.96153846, 27.]]])\n",
        ">>\n",
        ">> coluna(z, 4)\n",
        "array([4.44444444, 10.])\n",
        ">>\n",
        ">> linha(z, 5)\n",
        "\"Não existe esta linha\"\n",
        ">>\n",
        ">> linha(w, 3)\n",
        "\"Isto não é uma matriz\"\n",
        "```"
      ]
    },
    {
      "cell_type": "code",
      "metadata": {
        "id": "Rod5jihGbv1R",
        "colab": {
          "base_uri": "https://localhost:8080/"
        },
        "outputId": "32ca00e8-1034-4c15-ace1-13ddb0c7b17a"
      },
      "source": [
        "def linha(A, n):\n",
        "    if len(A.shape) != 2:\n",
        "        print(\"Isto não é uma matriz\")\n",
        "        return None\n",
        "    ####### Correção #######\n",
        "    # Errado:\n",
        "    # if A.shape[0] < n:\n",
        "    # Correto\n",
        "    if A.shape[0] <= n:\n",
        "        print(\"Não existe esta linha\")\n",
        "        return None\n",
        "    return A[n, :]\n",
        "\n",
        "def coluna(A, n):\n",
        "    if len(A.shape) != 2:\n",
        "        print(\"Isto não é uma matriz\")\n",
        "        return None\n",
        "    ####### Correção #######\n",
        "    # Errado:\n",
        "    # if A.shape[1] < n:\n",
        "    # Correto\n",
        "    if A.shape[1] <= n:\n",
        "        print(\"Não existe esta coluna\")\n",
        "        return None\n",
        "    return A[:, n]\n",
        "\n",
        "\n",
        "\n",
        "z = np.array([[0.,1.11111111,2.22222222,3.33333333,4.44444444],\n",
        "              [5.55555556,6.66666667,7.77777778,8.88888889,10.]])\n",
        "\n",
        "w = np.array([[[0., 1.03846154, 2.07692308],\n",
        "               [3.11538462, 4.15384615, 5.19230769],\n",
        "               [6.23076923, 7.26923077, 8.30769231]],\n",
        "              [[9.34615385, 10.38461538, 11.42307692],\n",
        "               [12.46153846, 13.5, 14.53846154],\n",
        "               [15.57692308, 16.61538462, 17.65384615]],\n",
        "              [[18.69230769, 19.73076923, 20.76923077],\n",
        "               [21.80769231, 22.84615385, 23.88461538],\n",
        "               [24.92307692, 25.96153846, 27.]]])\n",
        "\n",
        "coluna(z, 4)"
      ],
      "execution_count": 66,
      "outputs": [
        {
          "output_type": "execute_result",
          "data": {
            "text/plain": [
              "array([ 4.44444444, 10.        ])"
            ]
          },
          "metadata": {},
          "execution_count": 66
        }
      ]
    },
    {
      "cell_type": "code",
      "source": [
        "linha(z, 5)"
      ],
      "metadata": {
        "colab": {
          "base_uri": "https://localhost:8080/"
        },
        "id": "FtjgJ2au-md4",
        "outputId": "a1ae38f7-75c0-4687-d637-46071e4c076d"
      },
      "execution_count": 67,
      "outputs": [
        {
          "output_type": "stream",
          "name": "stdout",
          "text": [
            "Não existe esta linha\n"
          ]
        }
      ]
    },
    {
      "cell_type": "code",
      "source": [
        "linha(w, 3)"
      ],
      "metadata": {
        "colab": {
          "base_uri": "https://localhost:8080/"
        },
        "id": "VdbvXqQi-owE",
        "outputId": "491e79de-5760-4263-decd-cd76858609d6"
      },
      "execution_count": 68,
      "outputs": [
        {
          "output_type": "stream",
          "name": "stdout",
          "text": [
            "Isto não é uma matriz\n"
          ]
        }
      ]
    },
    {
      "cell_type": "markdown",
      "metadata": {
        "id": "HVcvD3MZH2zU"
      },
      "source": [
        "### 3 Indexação por Máscara\n",
        "É possível indexar e fatiar os `numpy.ndarrays` utilizando booleanos."
      ]
    },
    {
      "cell_type": "code",
      "metadata": {
        "id": "rZhFCKN_H9Jd",
        "colab": {
          "base_uri": "https://localhost:8080/",
          "height": 265
        },
        "outputId": "3e983146-bb40-4496-d13c-52a56fb1467e"
      },
      "source": [
        "t = np.linspace(0, 10, 1000)\n",
        "x = t**2\n",
        "plt.plot(t, x)\n",
        "plt.show()"
      ],
      "execution_count": 69,
      "outputs": [
        {
          "output_type": "display_data",
          "data": {
            "text/plain": [
              "<Figure size 432x288 with 1 Axes>"
            ],
            "image/png": "[encoded data removed]"
          },
          "metadata": {
            "needs_background": "light"
          }
        }
      ]
    },
    {
      "cell_type": "code",
      "metadata": {
        "id": "24imjWUdIJuw",
        "colab": {
          "base_uri": "https://localhost:8080/",
          "height": 265
        },
        "outputId": "ff246b45-901f-4607-8795-7461da3556f8"
      },
      "source": [
        "mask1 = (t >= 2.5) & (t < 5.0)\n",
        "mask2 = t >= 5.0\n",
        "\n",
        "# fixação do x no intervalo da mask 1\n",
        "x[mask1] = t[mask1][0]**2\n",
        "# continuação da função, porém sem nenhum degrau\n",
        "x[mask2] = t[mask2]**2 - (t[mask2][0]**2 - t[mask1][0]**2)\n",
        "\n",
        "plt.plot(t, x, t[mask1], x[mask1], t[mask2], x[mask2])\n",
        "plt.show()"
      ],
      "execution_count": 70,
      "outputs": [
        {
          "output_type": "display_data",
          "data": {
            "text/plain": [
              "<Figure size 432x288 with 1 Axes>"
            ],
            "image/png": "[encoded data removed]"
          },
          "metadata": {
            "needs_background": "light"
          }
        }
      ]
    },
    {
      "cell_type": "markdown",
      "metadata": {
        "id": "zvB3GJqsKLhY"
      },
      "source": [
        "## III. Operações\n",
        "---\n",
        "**Índice:**\n",
        "1. [Básicas](#1-Básicas)\n",
        "2. [Vetoriais e matriciais](#2-Vetoriais-e-matriciais)\n",
        "3. [Broadcasting](#3-Broadcasting)\n",
        "4. [Métodos de arrays](#4-Métodos-de-arrays)\n",
        "5. [Estatística](#5-Estatística)\n",
        "6. [Métodos universais](#6-Métodos-universais)\n",
        "7. [Vetorizando funções](#7-Vetorizando-funções)\n"
      ]
    },
    {
      "cell_type": "markdown",
      "metadata": {
        "id": "qfTWpUgXcorj"
      },
      "source": [
        "### 1 Básicas\n",
        "Operações de array com uma constante\n",
        "* Aritiméticas: `+, -, *, /, //, %`\n",
        "* Comparação: `==, !=, >, >=, <, <=`\n",
        "* Booleanas: `[&](and), [|](or), [^](xor), [~](not)`\n"
      ]
    },
    {
      "cell_type": "code",
      "metadata": {
        "id": "J5P1DTfnbW_r"
      },
      "source": [
        "x = np.arange(6)"
      ],
      "execution_count": 71,
      "outputs": []
    },
    {
      "cell_type": "code",
      "metadata": {
        "id": "yzHsmeEZbc0u",
        "colab": {
          "base_uri": "https://localhost:8080/"
        },
        "outputId": "1850760e-d7a9-4fb5-80d1-ac45c4f493fb"
      },
      "source": [
        "print('x:            ', x)\n",
        "print('Operações com o número 2.')\n",
        "print('Soma:         ', x+2)\n",
        "print('Subtração:    ', x-2)\n",
        "print('Multiplicação:', x*2)\n",
        "print('Divisão:      ', x/2)\n",
        "print('Exponenciação:', x**2)\n",
        "print('Quociente:    ', x//2)\n",
        "print('Resto:        ', x%2)"
      ],
      "execution_count": 72,
      "outputs": [
        {
          "output_type": "stream",
          "name": "stdout",
          "text": [
            "x:             [0 1 2 3 4 5]\n",
            "Operações com o número 2.\n",
            "Soma:          [2 3 4 5 6 7]\n",
            "Subtração:     [-2 -1  0  1  2  3]\n",
            "Multiplicação: [ 0  2  4  6  8 10]\n",
            "Divisão:       [0.  0.5 1.  1.5 2.  2.5]\n",
            "Exponenciação: [ 0  1  4  9 16 25]\n",
            "Quociente:     [0 0 1 1 2 2]\n",
            "Resto:         [0 1 0 1 0 1]\n"
          ]
        }
      ]
    },
    {
      "cell_type": "code",
      "metadata": {
        "id": "SEFST9npnEg4",
        "colab": {
          "base_uri": "https://localhost:8080/"
        },
        "outputId": "aa453ebf-47ea-4c31-d720-6dd6e088de57"
      },
      "source": [
        "print('x:             ', x)\n",
        "print('Comparação com o número 3.')\n",
        "print('Igual:         ', x==3)\n",
        "print('Diferente:     ', x!=3)\n",
        "print('Maior:         ', x>3)\n",
        "print('Maior ou igual:', x>=3)\n",
        "print('Menor:         ', x<3)\n",
        "print('Menor ou igual:', x<=3)"
      ],
      "execution_count": 73,
      "outputs": [
        {
          "output_type": "stream",
          "name": "stdout",
          "text": [
            "x:              [0 1 2 3 4 5]\n",
            "Comparação com o número 3.\n",
            "Igual:          [False False False  True False False]\n",
            "Diferente:      [ True  True  True False  True  True]\n",
            "Maior:          [False False False False  True  True]\n",
            "Maior ou igual: [False False False  True  True  True]\n",
            "Menor:          [ True  True  True False False False]\n",
            "Menor ou igual: [ True  True  True  True False False]\n"
          ]
        }
      ]
    },
    {
      "cell_type": "code",
      "metadata": {
        "id": "e0j4zRB2icqH"
      },
      "source": [
        "x = np.array([i%2 == 0 for i in range(4)])"
      ],
      "execution_count": 74,
      "outputs": []
    },
    {
      "cell_type": "code",
      "metadata": {
        "id": "scLo0oIZb7vt",
        "colab": {
          "base_uri": "https://localhost:8080/"
        },
        "outputId": "daa1ad03-3158-48da-cba7-3b408c560200"
      },
      "source": [
        "# aqui é criado um vetor com True e False e em seguida fazendo comparações com \n",
        "# verdadeiro. \n",
        "print('x:  ', x)\n",
        "print('Comparação com True')\n",
        "print('And:', x & True)\n",
        "print('Or: ', x | True)\n",
        "print('Xor:', x ^ True)\n",
        "print('Not:', ~x)"
      ],
      "execution_count": 75,
      "outputs": [
        {
          "output_type": "stream",
          "name": "stdout",
          "text": [
            "x:   [ True False  True False]\n",
            "Comparação com True\n",
            "And: [ True False  True False]\n",
            "Or:  [ True  True  True  True]\n",
            "Xor: [False  True False  True]\n",
            "Not: [False  True False  True]\n"
          ]
        }
      ]
    },
    {
      "cell_type": "markdown",
      "metadata": {
        "id": "SkKueXJyoabd"
      },
      "source": [
        "### 2 Operações vetoriais e matriciais"
      ]
    },
    {
      "cell_type": "code",
      "metadata": {
        "id": "V_THBvgLpAFY",
        "colab": {
          "base_uri": "https://localhost:8080/"
        },
        "outputId": "31eae174-d73b-4473-ef27-b6754fda3fff"
      },
      "source": [
        "x = np.random.randint(0, 10, size=(3,2))\n",
        "y = np.random.randint(0, 10, size=(3,2))\n",
        "z = np.random.randint(0, 10, size=(2,3))\n",
        "print(x, y, z, sep='\\n\\n')"
      ],
      "execution_count": 78,
      "outputs": [
        {
          "output_type": "stream",
          "name": "stdout",
          "text": [
            "[[8 2]\n",
            " [1 0]\n",
            " [7 7]]\n",
            "\n",
            "[[7 2]\n",
            " [0 8]\n",
            " [6 5]]\n",
            "\n",
            "[[6 5 3]\n",
            " [1 0 8]]\n"
          ]
        }
      ]
    },
    {
      "cell_type": "markdown",
      "metadata": {
        "id": "eiL78j_UrMyq"
      },
      "source": [
        "Operações termo a termo."
      ]
    },
    {
      "cell_type": "code",
      "metadata": {
        "id": "Mnw58VIQpuI0",
        "colab": {
          "base_uri": "https://localhost:8080/"
        },
        "outputId": "dc03d1d5-2fcc-4d28-fb66-9238df6b7d49"
      },
      "source": [
        "x + y"
      ],
      "execution_count": 79,
      "outputs": [
        {
          "output_type": "execute_result",
          "data": {
            "text/plain": [
              "array([[15,  4],\n",
              "       [ 1,  8],\n",
              "       [13, 12]])"
            ]
          },
          "metadata": {},
          "execution_count": 79
        }
      ]
    },
    {
      "cell_type": "code",
      "metadata": {
        "id": "eTZa4wEjqfSn",
        "colab": {
          "base_uri": "https://localhost:8080/"
        },
        "outputId": "28e238e1-3d39-4100-8419-7088de711e3c"
      },
      "source": [
        "x - y"
      ],
      "execution_count": 80,
      "outputs": [
        {
          "output_type": "execute_result",
          "data": {
            "text/plain": [
              "array([[ 1,  0],\n",
              "       [ 1, -8],\n",
              "       [ 1,  2]])"
            ]
          },
          "metadata": {},
          "execution_count": 80
        }
      ]
    },
    {
      "cell_type": "code",
      "metadata": {
        "id": "Wh_tlvIzrHax",
        "colab": {
          "base_uri": "https://localhost:8080/"
        },
        "outputId": "77fd24e6-6a3a-4e26-bbd4-0a53e9c24adc"
      },
      "source": [
        "x * y"
      ],
      "execution_count": 81,
      "outputs": [
        {
          "output_type": "execute_result",
          "data": {
            "text/plain": [
              "array([[56,  4],\n",
              "       [ 0,  0],\n",
              "       [42, 35]])"
            ]
          },
          "metadata": {},
          "execution_count": 81
        }
      ]
    },
    {
      "cell_type": "code",
      "metadata": {
        "id": "zm4C-MpyrI-k",
        "colab": {
          "base_uri": "https://localhost:8080/"
        },
        "outputId": "ee85dde9-b559-4f8b-88a3-43d84aec53f6"
      },
      "source": [
        "x / y"
      ],
      "execution_count": 91,
      "outputs": [
        {
          "output_type": "stream",
          "name": "stderr",
          "text": [
            "/usr/local/lib/python3.7/dist-packages/ipykernel_launcher.py:1: RuntimeWarning: divide by zero encountered in true_divide\n",
            "  \"\"\"Entry point for launching an IPython kernel.\n"
          ]
        },
        {
          "output_type": "execute_result",
          "data": {
            "text/plain": [
              "array([[1.14285714, 1.        ],\n",
              "       [       inf, 0.        ],\n",
              "       [1.16666667, 1.4       ]])"
            ]
          },
          "metadata": {},
          "execution_count": 91
        }
      ]
    },
    {
      "cell_type": "markdown",
      "metadata": {
        "id": "pBBn3Db9rKGb"
      },
      "source": [
        "Multiplicação matricial\n",
        "\n",
        "Para que a multiplicação ocorra, é necessário que o número de colunas da matriz à esquerda seja igual ao número de linhas da matriz à direita:\n",
        "\n",
        "$$\n",
        "\\left[\n",
        "    \\begin{matrix}\n",
        "    a & b & c \\\\\n",
        "    e & f & g\n",
        "    \\end{matrix}\n",
        "\\right] \\cdot\n",
        "\\left[\n",
        "    \\begin{matrix}\n",
        "    A & B \\\\\n",
        "    C & D \\\\\n",
        "    E & F\n",
        "    \\end{matrix}\n",
        "\\right] = \n",
        "\\left[\n",
        "    \\begin{matrix}\n",
        "    Aa + Cb + Ec & Ba + Db + Fc \\\\\n",
        "    Ae + Cf + Eg & Be + Df + Fg\n",
        "    \\end{matrix}\n",
        "\\right]\n",
        "$$"
      ]
    },
    {
      "cell_type": "code",
      "metadata": {
        "id": "qCC7ykSzrVn1",
        "colab": {
          "base_uri": "https://localhost:8080/"
        },
        "outputId": "fabeaacd-78e8-435b-b5ff-b2a33be0f154"
      },
      "source": [
        "print(x, z, sep='\\n\\n')\n",
        "print('\\nx @ z =')\n",
        "x @ z"
      ],
      "execution_count": 92,
      "outputs": [
        {
          "output_type": "stream",
          "name": "stdout",
          "text": [
            "[[8 2]\n",
            " [1 0]\n",
            " [7 7]]\n",
            "\n",
            "[[6 5 3]\n",
            " [1 0 8]]\n",
            "\n",
            "x @ z =\n"
          ]
        },
        {
          "output_type": "execute_result",
          "data": {
            "text/plain": [
              "array([[50, 40, 40],\n",
              "       [ 6,  5,  3],\n",
              "       [49, 35, 77]])"
            ]
          },
          "metadata": {},
          "execution_count": 92
        }
      ]
    },
    {
      "cell_type": "code",
      "metadata": {
        "id": "MtZhkd6ArX6e",
        "colab": {
          "base_uri": "https://localhost:8080/"
        },
        "outputId": "b534bdb7-b8a9-4fb7-cec1-97262dee01d0"
      },
      "source": [
        "x.dot(z)"
      ],
      "execution_count": 93,
      "outputs": [
        {
          "output_type": "execute_result",
          "data": {
            "text/plain": [
              "array([[50, 40, 40],\n",
              "       [ 6,  5,  3],\n",
              "       [49, 35, 77]])"
            ]
          },
          "metadata": {},
          "execution_count": 93
        }
      ]
    },
    {
      "cell_type": "markdown",
      "metadata": {
        "id": "13eypWJS0Zyb"
      },
      "source": [
        "### 3 Broadcasting\n",
        "\n",
        "O NumPy possui a capacidade de aumentar o tamanho de um array automaticamente para realizar uma operação, isto se chama broadcasting:\n",
        "\n",
        "$$\n",
        "\\left[\n",
        "    \\begin{matrix}\n",
        "    a & b & c \\\\\n",
        "    e & f & g\n",
        "    \\end{matrix}\n",
        "\\right] +\n",
        "\\left[\n",
        "    \\begin{matrix}\n",
        "    A & B & C\n",
        "    \\end{matrix}\n",
        "\\right] \\Rightarrow\n",
        "\\left[\n",
        "    \\begin{matrix}\n",
        "    a & b & c \\\\\n",
        "    e & f & g\n",
        "    \\end{matrix}\n",
        "\\right] +\n",
        "\\left[\n",
        "    \\begin{matrix}\n",
        "    A & B & C \\\\\n",
        "    A & B & C\n",
        "    \\end{matrix}\n",
        "\\right]\n",
        "$$"
      ]
    },
    {
      "cell_type": "code",
      "metadata": {
        "id": "RS5yU07k3EKG"
      },
      "source": [
        "x = np.ones((2, 3))*3\n",
        "y = np.ones((1, 3))*2"
      ],
      "execution_count": 94,
      "outputs": []
    },
    {
      "cell_type": "code",
      "metadata": {
        "id": "80bL1RgI4UUT",
        "colab": {
          "base_uri": "https://localhost:8080/"
        },
        "outputId": "5032fd16-45e8-425b-fb49-df1a576c99af"
      },
      "source": [
        "print('x:\\n', x)\n",
        "print('y:\\n', y)\n",
        "print()\n",
        "print('x + y:\\n', x + y)\n",
        "print('x * y:\\n', x * y)"
      ],
      "execution_count": 95,
      "outputs": [
        {
          "output_type": "stream",
          "name": "stdout",
          "text": [
            "x:\n",
            " [[3. 3. 3.]\n",
            " [3. 3. 3.]]\n",
            "y:\n",
            " [[2. 2. 2.]]\n",
            "\n",
            "x + y:\n",
            " [[5. 5. 5.]\n",
            " [5. 5. 5.]]\n",
            "x * y:\n",
            " [[6. 6. 6.]\n",
            " [6. 6. 6.]]\n"
          ]
        }
      ]
    },
    {
      "cell_type": "markdown",
      "metadata": {
        "id": "FM7yHc7l4vd_"
      },
      "source": [
        "### 4 Métodos de arrays\n",
        "\n",
        "```python\n",
        "np.sum(a, axis=None, dtype=None, out=None, keepdims=False, initial=0, where=True)\n",
        "np.prod(a, axis=None, dtype=None, , out=None, keepdims=False, initial=0, where=True)\n",
        "np.cumsum(a, axis=None, dtype=None, out=None)\n",
        "np.cumprod(a, axis=None, dtype=None, out=None)\n",
        "```"
      ]
    },
    {
      "cell_type": "code",
      "metadata": {
        "id": "d9uRIjyo5Djz",
        "colab": {
          "base_uri": "https://localhost:8080/"
        },
        "outputId": "d8efd19e-9be2-4ff5-8a5b-c216199711ef"
      },
      "source": [
        "print('Somatório:')\n",
        "print(x.sum())\n",
        "print('Produtório:')\n",
        "print(x.prod(axis=1))\n",
        "print('Soma acumulada:')\n",
        "print(x.cumsum())\n",
        "print('Produto acumulado:')\n",
        "print(x.cumprod(axis=0))"
      ],
      "execution_count": 96,
      "outputs": [
        {
          "output_type": "stream",
          "name": "stdout",
          "text": [
            "Somatório:\n",
            "18.0\n",
            "Produtório:\n",
            "[27. 27.]\n",
            "Soma acumulada:\n",
            "[ 3.  6.  9. 12. 15. 18.]\n",
            "Produto acumulado:\n",
            "[[3. 3. 3.]\n",
            " [9. 9. 9.]]\n"
          ]
        }
      ]
    },
    {
      "cell_type": "markdown",
      "metadata": {
        "id": "uPnk8SvL7wUD"
      },
      "source": [
        "### 5 Estatística\n",
        "\n",
        "```python\n",
        "# Mínimo\n",
        "np.min(a, axis=None, out=None, keepdims=False, initial=<no value>, where=True)\n",
        "\n",
        "# Máximo\n",
        "np.max(a, axis=None, out=None, keepdims=False, initial=<no value>, where=True)\n",
        "\n",
        "# Percentil\n",
        "np.percentilenp.percentile(a, q, axis=None, out=None, overwrite_input=False, interpolation='linear', keepdims=False)\n",
        "\n",
        "# Quartil\n",
        "np.quantile(a, q, axis=None, out=None, overwrite_input=False, interpolation='linear', keepdims=False)\n",
        "\n",
        "# Média\n",
        "np.mean(a, axis=None, dtype=None, out=None, keepdims=numpy._globals._NoValueType instance)\n",
        "\n",
        "# Mediana\n",
        "np.median(a, axis=None, out=None, overwrite_input=False, keepdims=False)\n",
        "\n",
        "# Desvio Padrão\n",
        "np.std(a, axis=None, dtype=None, out=None, ddof=0, keepdims=numpy._globals._NoValueType instance)\n",
        "\n",
        "# Variância\n",
        "np.var(a, axis=None, dtype=None, out=None, ddof=0, keepdims=numpy._globals._NoValueType instance)\n",
        "```"
      ]
    },
    {
      "cell_type": "code",
      "metadata": {
        "id": "VTVmgbnk3IQk"
      },
      "source": [
        "x = np.random.randint(0, 10, size=(10))"
      ],
      "execution_count": 102,
      "outputs": []
    },
    {
      "cell_type": "code",
      "metadata": {
        "id": "MKZ_zZw98Gt0",
        "colab": {
          "base_uri": "https://localhost:8080/"
        },
        "outputId": "8f7a8c18-d342-49d6-d74c-870ea4ccc837"
      },
      "source": [
        "print('x:             ', sorted(x))\n",
        "print('Máximo:        ', x.max())\n",
        "for i in range(90,0,-10):\n",
        "    if i == 70:\n",
        "        print('Percentil 75 % = 3º Quartil:', np.quantile(x, .75))\n",
        "    if i == 20:\n",
        "        print('Percentil 25 % = 1º Quartil:', np.quantile(x, .25))\n",
        "    if i == 50:\n",
        "        print('Percentil 50 % = 2º Quartil = Mediana:', np.percentile(x, i))\n",
        "    else:\n",
        "        print('Percentil %d %%:'%i, np.percentile(x, i))\n",
        "print('Mínimo:        ', x.min())"
      ],
      "execution_count": 103,
      "outputs": [
        {
          "output_type": "stream",
          "name": "stdout",
          "text": [
            "x:              [0, 0, 2, 3, 3, 5, 5, 6, 9, 9]\n",
            "Máximo:         9\n",
            "Percentil 90 %: 9.0\n",
            "Percentil 80 %: 6.6000000000000005\n",
            "Percentil 75 % = 3º Quartil: 5.75\n",
            "Percentil 70 %: 5.3\n",
            "Percentil 60 %: 5.0\n",
            "Percentil 50 % = 2º Quartil = Mediana: 4.0\n",
            "Percentil 40 %: 3.0\n",
            "Percentil 30 %: 2.6999999999999997\n",
            "Percentil 25 % = 1º Quartil: 2.25\n",
            "Percentil 20 %: 1.6\n",
            "Percentil 10 %: 0.0\n",
            "Mínimo:         0\n"
          ]
        }
      ]
    },
    {
      "cell_type": "code",
      "metadata": {
        "id": "I2YFoLUABcxP",
        "colab": {
          "base_uri": "https://localhost:8080/"
        },
        "outputId": "fc22c036-881d-403b-c560-9c5fcdd4ca42"
      },
      "source": [
        "print('Desvio Padrão:', x.std())\n",
        "print('Variância:    ', x.var())"
      ],
      "execution_count": 104,
      "outputs": [
        {
          "output_type": "stream",
          "name": "stdout",
          "text": [
            "Desvio Padrão: 3.0594117081556713\n",
            "Variância:     9.360000000000001\n"
          ]
        }
      ]
    },
    {
      "cell_type": "code",
      "metadata": {
        "id": "LzO6_Nu080Br",
        "colab": {
          "base_uri": "https://localhost:8080/",
          "height": 265
        },
        "outputId": "a9245cae-4e09-423a-ae60-780448bc6dae"
      },
      "source": [
        "plt.boxplot(x);\n",
        "plt.grid(axis='y')"
      ],
      "execution_count": 105,
      "outputs": [
        {
          "output_type": "display_data",
          "data": {
            "text/plain": [
              "<Figure size 432x288 with 1 Axes>"
            ],
            "image/png": "[encoded data removed]"
          },
          "metadata": {
            "needs_background": "light"
          }
        }
      ]
    },
    {
      "cell_type": "markdown",
      "metadata": {
        "id": "nXoMO0Yw9dsU"
      },
      "source": [
        "### 6 Métodos universais\n",
        "Métodos do NumPy para cálculo elemento a elemento de operação\n",
        "```python\n",
        "np.exp()\n",
        "np.sqrt()\n",
        "np.power()\n",
        "np.log()\n",
        "np.log10()\n",
        "np.log2()\n",
        "\n",
        "np.sin()\n",
        "np.cos()\n",
        "np.tan()\n",
        "np.arc...()\n",
        "\n",
        "np.sinh()\n",
        "np.cosh()\n",
        "np.tanh()\n",
        "np.arc...()\n",
        "```"
      ]
    },
    {
      "cell_type": "code",
      "metadata": {
        "id": "9CBmw4TMDLFs",
        "colab": {
          "base_uri": "https://localhost:8080/"
        },
        "outputId": "ad93ee34-1e8b-482b-b6d6-8814026015cf"
      },
      "source": [
        "x = np.sort(np.random.rand(1000))\n",
        "y = np.array([np.exp(x), np.log(x), np.cos(x*2*np.pi)])\n",
        "print('x:', x.shape)\n",
        "print('y:', y.shape)"
      ],
      "execution_count": 106,
      "outputs": [
        {
          "output_type": "stream",
          "name": "stdout",
          "text": [
            "x: (1000,)\n",
            "y: (3, 1000)\n"
          ]
        }
      ]
    },
    {
      "cell_type": "markdown",
      "metadata": {
        "id": "r10vHMUn1a-9"
      },
      "source": [
        "É necessário transpor o y pois o Matplotlib entende que as ordenadas possuem  1000 pontos, logo as abscissas devem possuir 1000 linhas!\n",
        "\n",
        "Assim, cada uma das três colunas é identificada como um conjunto de dados diferentes.\n"
      ]
    },
    {
      "cell_type": "code",
      "metadata": {
        "id": "pM0EEnmG9KbK",
        "colab": {
          "base_uri": "https://localhost:8080/",
          "height": 265
        },
        "outputId": "bd947426-3dde-4fa7-90ae-010f976bc7e0"
      },
      "source": [
        "plt.plot(x, y.T)\n",
        "\n",
        "# ao utilizar o $, o matplotlib invoca o LaTeX para imprimir uma equação\n",
        "plt.legend(['$e^x$', '$\\log(x)$', '$\\cos(2\\pi x)$']);"
      ],
      "execution_count": 107,
      "outputs": [
        {
          "output_type": "display_data",
          "data": {
            "text/plain": [
              "<Figure size 432x288 with 1 Axes>"
            ],
            "image/png": "[encoded data removed]"
          },
          "metadata": {
            "needs_background": "light"
          }
        }
      ]
    },
    {
      "cell_type": "markdown",
      "metadata": {
        "id": "G8efcp2n9clP"
      },
      "source": [
        "### 7 Vetorizando funções"
      ]
    },
    {
      "cell_type": "code",
      "metadata": {
        "id": "dambPUODbfoT",
        "colab": {
          "base_uri": "https://localhost:8080/"
        },
        "outputId": "6cb5d5cb-317d-4be9-f9fb-4e1422cd2c5c"
      },
      "source": [
        "x = np.random.randn(10)\n",
        "x"
      ],
      "execution_count": 108,
      "outputs": [
        {
          "output_type": "execute_result",
          "data": {
            "text/plain": [
              "array([-0.80290294,  1.18941447, -0.70596271, -0.60179939,  0.74200246,\n",
              "       -1.02326121,  0.19913159,  0.01845142, -0.08160727,  1.19532321])"
            ]
          },
          "metadata": {},
          "execution_count": 108
        }
      ]
    },
    {
      "cell_type": "code",
      "metadata": {
        "id": "W6hPFYTIaemc"
      },
      "source": [
        "def f(x):\n",
        "    if x > 0:\n",
        "        return 1\n",
        "    else:\n",
        "        return 0\n",
        "\n",
        "f(x)"
      ],
      "execution_count": null,
      "outputs": []
    },
    {
      "cell_type": "markdown",
      "metadata": {
        "id": "25bmom-iaaSh"
      },
      "source": [
        "Funções definidas pelo usuário normalmente não são vetorizadas, ou seja, aplicáveis termo a termo em vetores.\n",
        "\n",
        "É possível vetorizar funções com o numpy."
      ]
    },
    {
      "cell_type": "code",
      "metadata": {
        "id": "eW4C1e8TbRvH",
        "colab": {
          "base_uri": "https://localhost:8080/"
        },
        "outputId": "e8c35cef-e310-40c7-813f-b5651625d6e5"
      },
      "source": [
        "f_vect = np.vectorize(f)\n",
        "f_vect(x)"
      ],
      "execution_count": 110,
      "outputs": [
        {
          "output_type": "execute_result",
          "data": {
            "text/plain": [
              "array([0, 1, 0, 0, 1, 0, 1, 1, 0, 1])"
            ]
          },
          "metadata": {},
          "execution_count": 110
        }
      ]
    },
    {
      "cell_type": "markdown",
      "metadata": {
        "id": "g8I7bE__cZh1"
      },
      "source": [
        "#### Exercício 4\n",
        "Considere a expressão polinomial:\n",
        "$$p(x) = a_0 + a_1x + a_2x^2 +\\ ...\\ + a_Nx^N = \\sum^N_{n=0}{a_nx^n}$$\n",
        "\n",
        "Escreva uma função que utilize arrays e operações em arrays NumPy para calcular tal polinômio, sem usar `for` ou `while`.\n",
        "\n",
        "Dica: use `np.cumprod()` ou `np.vectorize()`."
      ]
    },
    {
      "cell_type": "code",
      "metadata": {
        "id": "8E3pGifNi9gG",
        "colab": {
          "base_uri": "https://localhost:8080/"
        },
        "outputId": "097dc65d-c678-44f0-c62b-72411cf0b858"
      },
      "source": [
        "def p(a, x, n):\n",
        "    return a*x**n\n",
        "\n",
        "# Criando um array com valores aleatórios entre 0 e 9,\n",
        "# com tamanho aleatório entre 1 e 9\n",
        "a = np.random.randint(0, 10, np.random.randint(1, 10))\n",
        "x = np.random.randint(0, 5)\n",
        "\n",
        "# Vetorizando a função\n",
        "p_vec = np.vectorize(p)\n",
        "y = p_vec(a, x, np.arange(a.shape[0]))\n",
        "\n",
        "# Imprimindo resultados\n",
        "s = ['%d'%(a[0])] if a[0] > 0 else [] # termo independente\n",
        "if a.shape[0] > 1:\n",
        "    s += ['%dx'%(a[1])] if a[1] > 0 else [] # termo x**1\n",
        "s += ['%dx**%d'%(a[i], i) for i in range(2, a.shape[0]) if a[i] !=0]\n",
        "print('x =', x)\n",
        "print('y =', ' + '.join(s))\n",
        "print()\n",
        "print('y =', ' + '.join(y.astype(str)),'=', y.sum())"
      ],
      "execution_count": 113,
      "outputs": [
        {
          "output_type": "stream",
          "name": "stdout",
          "text": [
            "x = 2\n",
            "y = 4 + 6x + 5x**2 + 9x**3 + 2x**4 + 9x**5 + 6x**6 + 3x**7 + 5x**8\n",
            "\n",
            "y = 4 + 12 + 20 + 72 + 32 + 288 + 384 + 384 + 1280 = 2476\n"
          ]
        }
      ]
    },
    {
      "cell_type": "markdown",
      "metadata": {
        "id": "y-S0Fv9Ni10A"
      },
      "source": [
        "#### Exercício 5\n",
        "Seja $q$ um array NumPy de comprimento $n$ com $\\sum{q} = 1$.\n",
        "\n",
        "Suponha que $q$ representa uma [função densidade de probabilidade](https://en.wikipedia.org/wiki/Probability_mass_function). Queremos gerar uma variável aleatória discreta $X$ tal que $P\\{X=i\\} = q_i$. Em outras palavras, $X$ toma valores em $range(len(q))$ e $x = i$ com probabilidade $q[i]$.\n",
        "\n",
        "O algoritmo (transformação inversa) padrão é como segue:\n",
        "* Divida o intervalo $[0,1]$ em $n$ subintervalos $I_0, I_1,\\ ..., I_{n1}$ tal que o comprimento de $I_i$ é $q_i$\n",
        "* Sorteie uma variável aleatória uniforme $U \\in [0,1]$ e retorne $i$ tal que $U \\in I_i$\n",
        "\n",
        "A probabilidade de sortear $i$ é o comprimento de $I_i$, que é igual a $q_i$. Podemos implementar o algoritmoda seguinte forma:\n",
        "\n",
        "```python\n",
        "from random import uniform\n",
        "def sample(q):\n",
        "    a = 0.0\n",
        "    U = uniform(0, 1)\n",
        "    for i in range(len(q)):\n",
        "        if a < U <= a + q[i]:\n",
        "            return i\n",
        "        a = a + q[i]\n",
        "```\n",
        "\n",
        "Se você não entendeu como isso funciona, tente pensar usando um exemplo simple, tal como $q = [0.25,0.75]$. Ajuda se você esboçar os intervalos no papel. Seu exercício é aumentar a velocidade usando Numpy, evitando laços explícitos.\n",
        "\n",
        "Dica: use `np.searchsorted` e `np.cumsum`.\n",
        "Exemplificando de maneira gráfica.\n",
        "\n",
        "Existem 4 cores de bolas em um saco com 100 bolas.\n",
        "\n",
        "|Cor|Quantidade|Probabilidade|Probabilidade Acumulada|\n",
        "|-|-:|-:|-:|\n",
        "|Azul|25|0.25|0.25|\n",
        "|Verde|25|0.25|0.50|\n",
        "|Vermelha|35|0.35|0.85|\n",
        "|Preta|15|0.15|1.00|\n",
        "\n",
        "Realizamos uma amostragem aleatória das bolas:"
      ]
    },
    {
      "cell_type": "code",
      "metadata": {
        "id": "f9HKMDspeSi7",
        "colab": {
          "base_uri": "https://localhost:8080/",
          "height": 190
        },
        "outputId": "c0f5d854-1b14-4075-c427-ae2e8d208e6c"
      },
      "source": [
        "from random import uniform\n",
        "def sample(q):\n",
        "    if np.sum(q) != 1:\n",
        "        raise ValueError('Não é função densidade de probabilidade.')\n",
        "    a = 0.0\n",
        "    U = uniform(0, 1)\n",
        "\n",
        "    # Gerando o gráfico explicativo\n",
        "    cs = list('bgrk')\n",
        "    plt.figure(figsize=(15,1))\n",
        "    plt.scatter(np.array(q).cumsum(), np.zeros_like(q), c=cs)\n",
        "    plt.xlim((0,1.1))\n",
        "    plt.box(False)\n",
        "    plt.grid(True)\n",
        "    plt.yticks([])\n",
        "    cores = ['Azul', 'Verde', 'Vermelha', 'Preta']\n",
        "    intervalos = np.array([0] + q).cumsum()\n",
        "    for i, cor in enumerate(cores):\n",
        "        plt.annotate(cor, (np.array(q).cumsum()[i], 0.01), c=cs[i])\n",
        "        plt.annotate('Intervalo %d'%i,\n",
        "                     ((intervalos[i]+intervalos[i+1])/2, 0.04),\n",
        "                     c=cs[i],\n",
        "                     ha='center')\n",
        "    for i in range(len(intervalos)-1):\n",
        "        plt.hlines(0, intervalos[i], intervalos[i+1], cs[i])\n",
        "    plt.plot(U, 0, marker='x', c='m')\n",
        "    plt.annotate('Var. Aleat.', (U, -0.025), c='m')\n",
        "    \n",
        "    print('Variável aleatória uniforme U =', U)\n",
        "    for i in range(len(q)):\n",
        "        if a < U <= a + q[i]:\n",
        "            print('Bola sorteada:', cores[i])\n",
        "            return i\n",
        "        a = a + q[i]\n",
        "\n",
        "d = [.25, .25, .35, .15]\n",
        "%time i = sample(d)\n",
        "print('Amostrado o intervalo',i)"
      ],
      "execution_count": 114,
      "outputs": [
        {
          "output_type": "stream",
          "name": "stdout",
          "text": [
            "Variável aleatória uniforme U = 0.5999409098139483\n",
            "Bola sorteada: Vermelha\n",
            "CPU times: user 19.9 ms, sys: 0 ns, total: 19.9 ms\n",
            "Wall time: 19.9 ms\n",
            "Amostrado o intervalo 2\n"
          ]
        },
        {
          "output_type": "display_data",
          "data": {
            "text/plain": [
              "<Figure size 1080x72 with 1 Axes>"
            ],
            "image/png": "[encoded data removed]"
          },
          "metadata": {
            "needs_background": "light"
          }
        }
      ]
    },
    {
      "cell_type": "code",
      "metadata": {
        "id": "JJTv5-dcjw0-",
        "colab": {
          "base_uri": "https://localhost:8080/"
        },
        "outputId": "1b3187aa-adaf-425e-aa9c-e202c77180c9"
      },
      "source": [
        "from random import uniform\n",
        "def sample(q):\n",
        "    a = 0.0\n",
        "    U = uniform(0, 1)\n",
        "    print(U)\n",
        "    return np.searchsorted(np.cumsum(d), U)\n",
        "    \n",
        "    # Parte do código eliminada\n",
        "    # for i in range(len(q)):\n",
        "    #     if a < U <= a + q[i]:\n",
        "    #         return i\n",
        "    #     a = a + q[i]\n",
        "\n",
        "d = [.25, .25, .35, .15]\n",
        "%time sample(d)"
      ],
      "execution_count": 115,
      "outputs": [
        {
          "output_type": "stream",
          "name": "stdout",
          "text": [
            "0.29812021936379884\n",
            "CPU times: user 1.19 ms, sys: 0 ns, total: 1.19 ms\n",
            "Wall time: 2.92 ms\n"
          ]
        },
        {
          "output_type": "execute_result",
          "data": {
            "text/plain": [
              "1"
            ]
          },
          "metadata": {},
          "execution_count": 115
        }
      ]
    },
    {
      "cell_type": "markdown",
      "metadata": {
        "id": "H12opD_F6vtk"
      },
      "source": [
        "## IV. Álgebra linear\n",
        "---\n",
        "\n",
        "Métodos:\n",
        "```python\n",
        "np.linalg.norm(x, ord=None, axis=None, keepdims=False) # Norma\n",
        "np.linalg.inv(A)                                       # Inversão de A\n",
        "np.linalg.solve(A, b)                                  # Resolve o sistema linear de \"Ax = b\"\n",
        "np.linalg.det(A)                                       # Determinante de A\n",
        "np.linalg.lstsq(a, b, rcond='warn')                    # Mínimos quadrados\n",
        "np.linalg.matrix_power(A, n)                           # Eleva \"A\" a potência \"n\"\n",
        "np.linalg;matrix_rank(M, tol=None, hermitian=False)    # Retorna o posto da matriz\n",
        "np.linalg.eig(A)                                       # Autovalores e autovetores de A\n",
        "np.linalg.qr(a, mode='reduced')                        # Decomposição QR\n",
        "np.linalg.cholesky(A)                                  # Decomposição Cholesky\n",
        "```"
      ]
    },
    {
      "cell_type": "markdown",
      "metadata": {
        "id": "in4CPbma7M30"
      },
      "source": [
        "#### Exercício 6\n",
        "Simulando um sensor com erros de medida.\n",
        "Sabendo-se que um sensor está medindo a temperatura ($T$) de um tanque, conforme dados abaixo, calcule a taxa de variação da temperatura. O tempo é representado por $t$, expresso em minutos.\n",
        "\n",
        "O sensor possui um erro de 3%.\n",
        "\n",
        "Dica: Utilize o método [`lstsq`](https://numpy.org/doc/stable/reference/generated/numpy.linalg.lstsq.html)."
      ]
    },
    {
      "cell_type": "code",
      "metadata": {
        "id": "rNKyIfLIAFL7"
      },
      "source": [
        "Temp = lambda t: (30 + t/10)+(np.random.randn(len(t))*(30 + t/10)*.03)"
      ],
      "execution_count": 116,
      "outputs": []
    },
    {
      "cell_type": "code",
      "metadata": {
        "id": "SGXQtd-ZBHep",
        "colab": {
          "base_uri": "https://localhost:8080/",
          "height": 299
        },
        "outputId": "1737251e-ca42-402d-a505-63353a886261"
      },
      "source": [
        "t = np.linspace(0, 100, 1000)\n",
        "T = Temp(t)\n",
        "\n",
        "plt.scatter(t, T, marker='.')\n",
        "plt.xlabel('$t$ [min]')\n",
        "plt.ylabel('$T$ [ºC]')\n",
        "plt.title('TT-1210003A')\n",
        "plt.grid()\n",
        "plt.show()"
      ],
      "execution_count": 117,
      "outputs": [
        {
          "output_type": "display_data",
          "data": {
            "text/plain": [
              "<Figure size 432x288 with 1 Axes>"
            ],
            "image/png": "[encoded data removed]"
          },
          "metadata": {
            "needs_background": "light"
          }
        }
      ]
    },
    {
      "cell_type": "code",
      "metadata": {
        "id": "H16atC46mhy5",
        "colab": {
          "base_uri": "https://localhost:8080/",
          "height": 283
        },
        "outputId": "c2e02fbd-a973-47d1-84f7-389f53f9456a"
      },
      "source": [
        "A = np.vstack([t, np.ones(t.shape[0])]).T\n",
        "a, b = np.linalg.lstsq(A, T, rcond=None)[0]\n",
        "\n",
        "plt.scatter(t, T, marker='.')\n",
        "plt.plot([t[0], t[-1]], [a*t[0]+b, a*t[-1]+b], 'r')\n",
        "plt.xlabel('$t$ [min]')\n",
        "plt.ylabel('$T$ [C]')\n",
        "plt.legend(['TT-1210003A', '$T = %.2ft + %.2f$' % (a, b)])\n",
        "plt.grid()\n",
        "plt.show()"
      ],
      "execution_count": 118,
      "outputs": [
        {
          "output_type": "display_data",
          "data": {
            "text/plain": [
              "<Figure size 432x288 with 1 Axes>"
            ],
            "image/png": "[encoded data removed]"
          },
          "metadata": {
            "needs_background": "light"
          }
        }
      ]
    },
    {
      "cell_type": "markdown",
      "source": [
        "O Numpy é uma biblioteca bem extensa, tem muito mais funcionalidades das que foram abordadas (trouxe aqui algumas necessidades que tive na minha vivência no curso de Eng. Elétrica). O que se imaginar para a aplicação de vetores e matrizes é possível fazer com o Numpy e a utilização vai da necessidade de cada um"
      ],
      "metadata": {
        "id": "jWSDCATUD0YB"
      }
    }
  ]
}